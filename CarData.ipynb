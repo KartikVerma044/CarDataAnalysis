{
 "cells": [
  {
   "cell_type": "code",
   "execution_count": 1,
   "metadata": {},
   "outputs": [],
   "source": [
    "import numpy as np\n",
    "import pandas as pd\n",
    "import seaborn as sns\n",
    "import matplotlib.pyplot as plt"
   ]
  },
  {
   "cell_type": "code",
   "execution_count": 8,
   "metadata": {},
   "outputs": [],
   "source": [
    "data=pd.read_csv('WEEK4.csv')#readingfile"
   ]
  },
  {
   "cell_type": "code",
   "execution_count": 9,
   "metadata": {},
   "outputs": [],
   "source": [
    "data = pd.concat([data,pd.get_dummies(data['color']).drop('white',axis=1)],axis = 1)\n",
    "data = data.drop('color',axis = 1)#droppingcolorwhite"
   ]
  },
  {
   "cell_type": "code",
   "execution_count": 10,
   "metadata": {},
   "outputs": [
    {
     "data": {
      "text/html": [
       "<div>\n",
       "<style scoped>\n",
       "    .dataframe tbody tr th:only-of-type {\n",
       "        vertical-align: middle;\n",
       "    }\n",
       "\n",
       "    .dataframe tbody tr th {\n",
       "        vertical-align: top;\n",
       "    }\n",
       "\n",
       "    .dataframe thead th {\n",
       "        text-align: right;\n",
       "    }\n",
       "</style>\n",
       "<table border=\"1\" class=\"dataframe\">\n",
       "  <thead>\n",
       "    <tr style=\"text-align: right;\">\n",
       "      <th></th>\n",
       "      <th>price</th>\n",
       "      <th>year</th>\n",
       "      <th>mileage</th>\n",
       "      <th>AGE_IN_YEARS</th>\n",
       "      <th>chevrolet</th>\n",
       "      <th>dodge</th>\n",
       "      <th>gmc</th>\n",
       "      <th>jeep</th>\n",
       "      <th>nissan</th>\n",
       "      <th>salvage insurance</th>\n",
       "      <th>...</th>\n",
       "      <th>Goa</th>\n",
       "      <th>MP</th>\n",
       "      <th>Maharashtra</th>\n",
       "      <th>UP</th>\n",
       "      <th>black</th>\n",
       "      <th>blue</th>\n",
       "      <th>gray</th>\n",
       "      <th>no_color</th>\n",
       "      <th>red</th>\n",
       "      <th>silver</th>\n",
       "    </tr>\n",
       "  </thead>\n",
       "  <tbody>\n",
       "    <tr>\n",
       "      <th>0</th>\n",
       "      <td>2899</td>\n",
       "      <td>2011</td>\n",
       "      <td>190552.0</td>\n",
       "      <td>3</td>\n",
       "      <td>0</td>\n",
       "      <td>0</td>\n",
       "      <td>0</td>\n",
       "      <td>0</td>\n",
       "      <td>0</td>\n",
       "      <td>0</td>\n",
       "      <td>...</td>\n",
       "      <td>0</td>\n",
       "      <td>0</td>\n",
       "      <td>0</td>\n",
       "      <td>1</td>\n",
       "      <td>0</td>\n",
       "      <td>0</td>\n",
       "      <td>0</td>\n",
       "      <td>0</td>\n",
       "      <td>0</td>\n",
       "      <td>1</td>\n",
       "    </tr>\n",
       "    <tr>\n",
       "      <th>1</th>\n",
       "      <td>5350</td>\n",
       "      <td>2018</td>\n",
       "      <td>39590.0</td>\n",
       "      <td>2</td>\n",
       "      <td>0</td>\n",
       "      <td>1</td>\n",
       "      <td>0</td>\n",
       "      <td>0</td>\n",
       "      <td>0</td>\n",
       "      <td>0</td>\n",
       "      <td>...</td>\n",
       "      <td>0</td>\n",
       "      <td>1</td>\n",
       "      <td>0</td>\n",
       "      <td>0</td>\n",
       "      <td>0</td>\n",
       "      <td>0</td>\n",
       "      <td>0</td>\n",
       "      <td>0</td>\n",
       "      <td>0</td>\n",
       "      <td>1</td>\n",
       "    </tr>\n",
       "    <tr>\n",
       "      <th>2</th>\n",
       "      <td>25000</td>\n",
       "      <td>2014</td>\n",
       "      <td>64146.0</td>\n",
       "      <td>2</td>\n",
       "      <td>0</td>\n",
       "      <td>0</td>\n",
       "      <td>0</td>\n",
       "      <td>0</td>\n",
       "      <td>0</td>\n",
       "      <td>0</td>\n",
       "      <td>...</td>\n",
       "      <td>0</td>\n",
       "      <td>0</td>\n",
       "      <td>0</td>\n",
       "      <td>1</td>\n",
       "      <td>0</td>\n",
       "      <td>1</td>\n",
       "      <td>0</td>\n",
       "      <td>0</td>\n",
       "      <td>0</td>\n",
       "      <td>0</td>\n",
       "    </tr>\n",
       "    <tr>\n",
       "      <th>3</th>\n",
       "      <td>27700</td>\n",
       "      <td>2018</td>\n",
       "      <td>6654.0</td>\n",
       "      <td>3</td>\n",
       "      <td>1</td>\n",
       "      <td>0</td>\n",
       "      <td>0</td>\n",
       "      <td>0</td>\n",
       "      <td>0</td>\n",
       "      <td>0</td>\n",
       "      <td>...</td>\n",
       "      <td>0</td>\n",
       "      <td>0</td>\n",
       "      <td>1</td>\n",
       "      <td>0</td>\n",
       "      <td>0</td>\n",
       "      <td>0</td>\n",
       "      <td>0</td>\n",
       "      <td>0</td>\n",
       "      <td>1</td>\n",
       "      <td>0</td>\n",
       "    </tr>\n",
       "    <tr>\n",
       "      <th>4</th>\n",
       "      <td>5700</td>\n",
       "      <td>2018</td>\n",
       "      <td>45561.0</td>\n",
       "      <td>1</td>\n",
       "      <td>0</td>\n",
       "      <td>1</td>\n",
       "      <td>0</td>\n",
       "      <td>0</td>\n",
       "      <td>0</td>\n",
       "      <td>0</td>\n",
       "      <td>...</td>\n",
       "      <td>0</td>\n",
       "      <td>0</td>\n",
       "      <td>0</td>\n",
       "      <td>1</td>\n",
       "      <td>0</td>\n",
       "      <td>0</td>\n",
       "      <td>0</td>\n",
       "      <td>0</td>\n",
       "      <td>0</td>\n",
       "      <td>0</td>\n",
       "    </tr>\n",
       "  </tbody>\n",
       "</table>\n",
       "<p>5 rows × 26 columns</p>\n",
       "</div>"
      ],
      "text/plain": [
       "   price  year   mileage  AGE_IN_YEARS  chevrolet  dodge  gmc  jeep  nissan  \\\n",
       "0   2899  2011  190552.0             3          0      0    0     0       0   \n",
       "1   5350  2018   39590.0             2          0      1    0     0       0   \n",
       "2  25000  2014   64146.0             2          0      0    0     0       0   \n",
       "3  27700  2018    6654.0             3          1      0    0     0       0   \n",
       "4   5700  2018   45561.0             1          0      1    0     0       0   \n",
       "\n",
       "   salvage insurance  ...  Goa  MP  Maharashtra  UP  black  blue  gray  \\\n",
       "0                  0  ...    0   0            0   1      0     0     0   \n",
       "1                  0  ...    0   1            0   0      0     0     0   \n",
       "2                  0  ...    0   0            0   1      0     1     0   \n",
       "3                  0  ...    0   0            1   0      0     0     0   \n",
       "4                  0  ...    0   0            0   1      0     0     0   \n",
       "\n",
       "   no_color  red  silver  \n",
       "0         0    0       1  \n",
       "1         0    0       1  \n",
       "2         0    0       0  \n",
       "3         0    1       0  \n",
       "4         0    0       0  \n",
       "\n",
       "[5 rows x 26 columns]"
      ]
     },
     "execution_count": 10,
     "metadata": {},
     "output_type": "execute_result"
    }
   ],
   "source": [
    "data.head()"
   ]
  },
  {
   "cell_type": "code",
   "execution_count": 15,
   "metadata": {},
   "outputs": [
    {
     "data": {
      "text/plain": [
       "(array([336., 507., 511., 451., 184.,  67.,  60.,  23.,  11.,   3.]),\n",
       " array([2.50000e+01, 7.42250e+03, 1.48200e+04, 2.22175e+04, 2.96150e+04,\n",
       "        3.70125e+04, 4.44100e+04, 5.18075e+04, 5.92050e+04, 6.66025e+04,\n",
       "        7.40000e+04]),\n",
       " <a list of 10 Patch objects>)"
      ]
     },
     "execution_count": 15,
     "metadata": {},
     "output_type": "execute_result"
    },
    {
     "data": {
      "image/png": "[encoded data removed]",
      "text/plain": [
       "<Figure size 432x288 with 1 Axes>"
      ]
     },
     "metadata": {
      "needs_background": "light"
     },
     "output_type": "display_data"
    }
   ],
   "source": [
    "from sklearn.model_selection import train_test_split as tts\n",
    "plt.hist(data['price'],color='r') #leftskewed#applylogtransform#applysqrttramsform"
   ]
  },
  {
   "cell_type": "code",
   "execution_count": 16,
   "metadata": {},
   "outputs": [
    {
     "data": {
      "text/plain": [
       "<function matplotlib.pyplot.show(*args, **kw)>"
      ]
     },
     "execution_count": 16,
     "metadata": {},
     "output_type": "execute_result"
    },
    {
     "data": {
      "image/png": "[encoded data removed]",
      "text/plain": [
       "<Figure size 432x288 with 1 Axes>"
      ]
     },
     "metadata": {
      "needs_background": "light"
     },
     "output_type": "display_data"
    }
   ],
   "source": [
    "plt.hist(np.sqrt(data['price']),color='r')#using numpy for sqrt transform\n",
    "plt.title(\"SQRT TRANSFORM\")\n",
    "plt.show"
   ]
  },
  {
   "cell_type": "code",
   "execution_count": 17,
   "metadata": {},
   "outputs": [
    {
     "data": {
      "text/plain": [
       "<function matplotlib.pyplot.show(*args, **kw)>"
      ]
     },
     "execution_count": 17,
     "metadata": {},
     "output_type": "execute_result"
    },
    {
     "data": {
      "image/png": "[encoded data removed]",
      "text/plain": [
       "<Figure size 432x288 with 1 Axes>"
      ]
     },
     "metadata": {
      "needs_background": "light"
     },
     "output_type": "display_data"
    }
   ],
   "source": [
    "plt.hist(np.log(data['price']),color='r')#using numpy for log transform\n",
    "plt.title(\"LOG TRANSFORM\")\n",
    "plt.show"
   ]
  },
  {
   "cell_type": "code",
   "execution_count": 18,
   "metadata": {},
   "outputs": [],
   "source": [
    "# clearly sqrt transform was better\n",
    "#WE CONVERT PRICES TO THEIR SQRT AND ROUND OFF DECIMALS TO TWO\n",
    "data['price'] = round(np.sqrt(data['price']),2)"
   ]
  },
  {
   "cell_type": "code",
   "execution_count": 19,
   "metadata": {},
   "outputs": [],
   "source": [
    "#splitting data\n",
    "X_train,X_test,y_train,y_test=tts(data.drop('price',axis = 1),data['price'],test_size = 0.2,random_state = 1)"
   ]
  },
  {
   "cell_type": "code",
   "execution_count": 20,
   "metadata": {},
   "outputs": [
    {
     "name": "stdout",
     "output_type": "stream",
     "text": [
      "(1722, 25)\n",
      "(431, 25)\n",
      "(1722,)\n",
      "(431,)\n"
     ]
    }
   ],
   "source": [
    "#printing shapes\n",
    "print(X_train.shape)\n",
    "print(X_test.shape)\n",
    "print(y_train.shape)\n",
    "print(y_test.shape)\n"
   ]
  },
  {
   "cell_type": "code",
   "execution_count": 30,
   "metadata": {},
   "outputs": [
    {
     "name": "stdout",
     "output_type": "stream",
     "text": [
      "Linear Regression Training R2 score is 0.3577935806672947\n",
      "Linear Regression Testing R2 score is 0.3340597013410348\n"
     ]
    }
   ],
   "source": [
    "#applying linear regression\n",
    "from sklearn.linear_model import LinearRegression\n",
    "from sklearn import metrics\n",
    "from sklearn.metrics import r2_score,mean_squared_error,mean_absolute_error\n",
    "LR=LinearRegression()\n",
    "LR.fit(X_train,y_train)\n",
    "# FIND TEST ERROR AND TRAIN ERROR WITH THE METRICS IMPORTED ABOVE\n",
    "# NOTE THAT WE HAVE SQUARED BACK THE VALUES AS WE ARE PREDICTING PRICES NOT THEIR SQUARE ROOT \n",
    "print(\"Linear Regression Training R2 score is \" + str(r2_score(np.square(y_train),np.square(LR.predict(X_train)))))\n",
    "print(\"Linear Regression Testing R2 score is \" + str(r2_score(np.square(y_test),np.square(LR.predict(X_test)))))"
   ]
  },
  {
   "cell_type": "code",
   "execution_count": 55,
   "metadata": {},
   "outputs": [
    {
     "data": {
      "text/plain": [
       "93998879.06677723"
      ]
     },
     "execution_count": 55,
     "metadata": {},
     "output_type": "execute_result"
    }
   ],
   "source": [
    "y_pred=LR.predict(X_test)\n",
    "mean_squared_error(np.square(y_test),np.square(y_pred))  \n"
   ]
  },
  {
   "cell_type": "code",
   "execution_count": 57,
   "metadata": {},
   "outputs": [
    {
     "data": {
      "text/plain": [
       "90997459.24037871"
      ]
     },
     "execution_count": 57,
     "metadata": {},
     "output_type": "execute_result"
    }
   ],
   "source": [
    "y_pred2=LR.predict(X_train)\n",
    "mean_squared_error(np.square(y_train),np.square(y_pred2)) "
   ]
  },
  {
   "cell_type": "code",
   "execution_count": 60,
   "metadata": {},
   "outputs": [
    {
     "data": {
      "text/plain": [
       "6926.987292556907"
      ]
     },
     "execution_count": 60,
     "metadata": {},
     "output_type": "execute_result"
    }
   ],
   "source": [
    "y_pred=LR.predict(X_test)\n",
    "mean_absolute_error(np.square(y_test),np.square(y_pred)) \n"
   ]
  },
  {
   "cell_type": "code",
   "execution_count": 61,
   "metadata": {},
   "outputs": [
    {
     "data": {
      "text/plain": [
       "6864.98050501778"
      ]
     },
     "execution_count": 61,
     "metadata": {},
     "output_type": "execute_result"
    }
   ],
   "source": [
    "y_pred2=LR.predict(X_train)\n",
    "mean_absolute_error(np.square(y_train),np.square(y_pred2)) \n"
   ]
  },
  {
   "cell_type": "code",
   "execution_count": 71,
   "metadata": {},
   "outputs": [
    {
     "name": "stdout",
     "output_type": "stream",
     "text": [
      "DT Training R2 score is 0.422869230755335\n",
      "DT TestingR2 score is 0.36145560633416207\n"
     ]
    }
   ],
   "source": [
    "from sklearn.tree import DecisionTreeRegressor\n",
    "DT = DecisionTreeRegressor(max_depth=7,random_state=1,criterion='mse')\n",
    "DT.fit(X_train,y_train)\n",
    "# FIND TEST ERROR AND TRAIN ERROR WITH THE METRICS IMPORTED ABOVE\n",
    "# NOTE THAT WE HAVE SQUARED BACK THE VALUES AS WE ARE PREDICTING PRICES NOT THEIR SQUARE ROOT \n",
    "print(\"DT Training R2 score is \" + str(r2_score(np.square(y_train),np.square(DT.predict(X_train)))))\n",
    "print(\"DT TestingR2 score is \" + str(r2_score(np.square(y_test),np.square(DT.predict(X_test)))))"
   ]
  },
  {
   "cell_type": "code",
   "execution_count": 80,
   "metadata": {},
   "outputs": [
    {
     "name": "stdout",
     "output_type": "stream",
     "text": [
      "81776562.90835412\n",
      "90131889.2396716\n",
      "6266.244817595775\n",
      "6846.025816839579\n"
     ]
    }
   ],
   "source": [
    "y_pred=DT.predict(X_train)\n",
    "print(mean_squared_error(np.square(y_train),np.square(y_pred)))\n",
    "y_pred2=DT.predict(X_test)\n",
    "print(mean_squared_error(np.square(y_test),np.square(y_pred2))) \n",
    "print(mean_absolute_error(np.square(y_train),np.square(y_pred)) )\n",
    "print(mean_absolute_error(np.square(y_test),np.square(y_pred2)))\n",
    "\n"
   ]
  },
  {
   "cell_type": "code",
   "execution_count": 83,
   "metadata": {},
   "outputs": [
    {
     "data": {
      "text/plain": [
       "RandomForestRegressor(bootstrap=True, ccp_alpha=0.0, criterion='mse',\n",
       "                      max_depth=9, max_features='auto', max_leaf_nodes=None,\n",
       "                      max_samples=None, min_impurity_decrease=0.0,\n",
       "                      min_impurity_split=None, min_samples_leaf=1,\n",
       "                      min_samples_split=2, min_weight_fraction_leaf=0.0,\n",
       "                      n_estimators=200, n_jobs=-1, oob_score=False,\n",
       "                      random_state=1, verbose=0, warm_start=False)"
      ]
     },
     "execution_count": 83,
     "metadata": {},
     "output_type": "execute_result"
    }
   ],
   "source": [
    "from sklearn.ensemble import RandomForestRegressor\n",
    "RF=RandomForestRegressor(n_estimators=200,max_depth=9,n_jobs=-1,random_state=1)\n",
    "RF.fit(X_train,y_train)"
   ]
  },
  {
   "cell_type": "code",
   "execution_count": 84,
   "metadata": {},
   "outputs": [
    {
     "data": {
      "text/plain": [
       "6695.668840563838"
      ]
     },
     "execution_count": 84,
     "metadata": {},
     "output_type": "execute_result"
    }
   ],
   "source": [
    "y_pred=RF.predict(X_test)\n",
    "mean_absolute_error(np.square(y_test),np.square(y_pred))"
   ]
  },
  {
   "cell_type": "code",
   "execution_count": 85,
   "metadata": {},
   "outputs": [
    {
     "data": {
      "text/plain": [
       "84727778.65210524"
      ]
     },
     "execution_count": 85,
     "metadata": {},
     "output_type": "execute_result"
    }
   ],
   "source": [
    "y_pred=RF.predict(X_test)\n",
    "mean_squared_error(np.square(y_test),np.square(y_pred)) "
   ]
  },
  {
   "cell_type": "code",
   "execution_count": 86,
   "metadata": {},
   "outputs": [
    {
     "data": {
      "text/plain": [
       "count     2153.000000\n",
       "mean     19298.257905\n",
       "std      11904.254199\n",
       "min         25.000000\n",
       "25%      10799.366400\n",
       "50%      17300.140900\n",
       "75%      26001.562500\n",
       "max      74000.320900\n",
       "Name: price, dtype: float64"
      ]
     },
     "execution_count": 86,
     "metadata": {},
     "output_type": "execute_result"
    }
   ],
   "source": [
    "# WE FIND THE MEDIAN\n",
    "np.square(data['price']).describe()"
   ]
  },
  {
   "cell_type": "code",
   "execution_count": 87,
   "metadata": {},
   "outputs": [],
   "source": [
    "#WE WILL DO BINARY CLASSIFICATION AND DIVIDE THE DATA EQUALLY(ALMOST) INTO 1's AND 0's\n",
    "#WE HAVE CHOSEN THRESHOLD AT price = 20000\n",
    "\n",
    "data.loc[np.square(data['price']) < 20000,'price'] = 0\n",
    "data.loc[np.square(data['price']) >= 20000,'price'] = 1"
   ]
  },
  {
   "cell_type": "code",
   "execution_count": 88,
   "metadata": {},
   "outputs": [
    {
     "data": {
      "text/html": [
       "<div>\n",
       "<style scoped>\n",
       "    .dataframe tbody tr th:only-of-type {\n",
       "        vertical-align: middle;\n",
       "    }\n",
       "\n",
       "    .dataframe tbody tr th {\n",
       "        vertical-align: top;\n",
       "    }\n",
       "\n",
       "    .dataframe thead th {\n",
       "        text-align: right;\n",
       "    }\n",
       "</style>\n",
       "<table border=\"1\" class=\"dataframe\">\n",
       "  <thead>\n",
       "    <tr style=\"text-align: right;\">\n",
       "      <th></th>\n",
       "      <th>price</th>\n",
       "      <th>year</th>\n",
       "      <th>mileage</th>\n",
       "      <th>AGE_IN_YEARS</th>\n",
       "      <th>chevrolet</th>\n",
       "      <th>dodge</th>\n",
       "      <th>gmc</th>\n",
       "      <th>jeep</th>\n",
       "      <th>nissan</th>\n",
       "      <th>salvage insurance</th>\n",
       "      <th>...</th>\n",
       "      <th>Goa</th>\n",
       "      <th>MP</th>\n",
       "      <th>Maharashtra</th>\n",
       "      <th>UP</th>\n",
       "      <th>black</th>\n",
       "      <th>blue</th>\n",
       "      <th>gray</th>\n",
       "      <th>no_color</th>\n",
       "      <th>red</th>\n",
       "      <th>silver</th>\n",
       "    </tr>\n",
       "  </thead>\n",
       "  <tbody>\n",
       "    <tr>\n",
       "      <th>0</th>\n",
       "      <td>0.0</td>\n",
       "      <td>2011</td>\n",
       "      <td>190552.0</td>\n",
       "      <td>3</td>\n",
       "      <td>0</td>\n",
       "      <td>0</td>\n",
       "      <td>0</td>\n",
       "      <td>0</td>\n",
       "      <td>0</td>\n",
       "      <td>0</td>\n",
       "      <td>...</td>\n",
       "      <td>0</td>\n",
       "      <td>0</td>\n",
       "      <td>0</td>\n",
       "      <td>1</td>\n",
       "      <td>0</td>\n",
       "      <td>0</td>\n",
       "      <td>0</td>\n",
       "      <td>0</td>\n",
       "      <td>0</td>\n",
       "      <td>1</td>\n",
       "    </tr>\n",
       "    <tr>\n",
       "      <th>1</th>\n",
       "      <td>0.0</td>\n",
       "      <td>2018</td>\n",
       "      <td>39590.0</td>\n",
       "      <td>2</td>\n",
       "      <td>0</td>\n",
       "      <td>1</td>\n",
       "      <td>0</td>\n",
       "      <td>0</td>\n",
       "      <td>0</td>\n",
       "      <td>0</td>\n",
       "      <td>...</td>\n",
       "      <td>0</td>\n",
       "      <td>1</td>\n",
       "      <td>0</td>\n",
       "      <td>0</td>\n",
       "      <td>0</td>\n",
       "      <td>0</td>\n",
       "      <td>0</td>\n",
       "      <td>0</td>\n",
       "      <td>0</td>\n",
       "      <td>1</td>\n",
       "    </tr>\n",
       "    <tr>\n",
       "      <th>2</th>\n",
       "      <td>1.0</td>\n",
       "      <td>2014</td>\n",
       "      <td>64146.0</td>\n",
       "      <td>2</td>\n",
       "      <td>0</td>\n",
       "      <td>0</td>\n",
       "      <td>0</td>\n",
       "      <td>0</td>\n",
       "      <td>0</td>\n",
       "      <td>0</td>\n",
       "      <td>...</td>\n",
       "      <td>0</td>\n",
       "      <td>0</td>\n",
       "      <td>0</td>\n",
       "      <td>1</td>\n",
       "      <td>0</td>\n",
       "      <td>1</td>\n",
       "      <td>0</td>\n",
       "      <td>0</td>\n",
       "      <td>0</td>\n",
       "      <td>0</td>\n",
       "    </tr>\n",
       "    <tr>\n",
       "      <th>3</th>\n",
       "      <td>1.0</td>\n",
       "      <td>2018</td>\n",
       "      <td>6654.0</td>\n",
       "      <td>3</td>\n",
       "      <td>1</td>\n",
       "      <td>0</td>\n",
       "      <td>0</td>\n",
       "      <td>0</td>\n",
       "      <td>0</td>\n",
       "      <td>0</td>\n",
       "      <td>...</td>\n",
       "      <td>0</td>\n",
       "      <td>0</td>\n",
       "      <td>1</td>\n",
       "      <td>0</td>\n",
       "      <td>0</td>\n",
       "      <td>0</td>\n",
       "      <td>0</td>\n",
       "      <td>0</td>\n",
       "      <td>1</td>\n",
       "      <td>0</td>\n",
       "    </tr>\n",
       "    <tr>\n",
       "      <th>4</th>\n",
       "      <td>0.0</td>\n",
       "      <td>2018</td>\n",
       "      <td>45561.0</td>\n",
       "      <td>1</td>\n",
       "      <td>0</td>\n",
       "      <td>1</td>\n",
       "      <td>0</td>\n",
       "      <td>0</td>\n",
       "      <td>0</td>\n",
       "      <td>0</td>\n",
       "      <td>...</td>\n",
       "      <td>0</td>\n",
       "      <td>0</td>\n",
       "      <td>0</td>\n",
       "      <td>1</td>\n",
       "      <td>0</td>\n",
       "      <td>0</td>\n",
       "      <td>0</td>\n",
       "      <td>0</td>\n",
       "      <td>0</td>\n",
       "      <td>0</td>\n",
       "    </tr>\n",
       "  </tbody>\n",
       "</table>\n",
       "<p>5 rows × 26 columns</p>\n",
       "</div>"
      ],
      "text/plain": [
       "   price  year   mileage  AGE_IN_YEARS  chevrolet  dodge  gmc  jeep  nissan  \\\n",
       "0    0.0  2011  190552.0             3          0      0    0     0       0   \n",
       "1    0.0  2018   39590.0             2          0      1    0     0       0   \n",
       "2    1.0  2014   64146.0             2          0      0    0     0       0   \n",
       "3    1.0  2018    6654.0             3          1      0    0     0       0   \n",
       "4    0.0  2018   45561.0             1          0      1    0     0       0   \n",
       "\n",
       "   salvage insurance  ...  Goa  MP  Maharashtra  UP  black  blue  gray  \\\n",
       "0                  0  ...    0   0            0   1      0     0     0   \n",
       "1                  0  ...    0   1            0   0      0     0     0   \n",
       "2                  0  ...    0   0            0   1      0     1     0   \n",
       "3                  0  ...    0   0            1   0      0     0     0   \n",
       "4                  0  ...    0   0            0   1      0     0     0   \n",
       "\n",
       "   no_color  red  silver  \n",
       "0         0    0       1  \n",
       "1         0    0       1  \n",
       "2         0    0       0  \n",
       "3         0    1       0  \n",
       "4         0    0       0  \n",
       "\n",
       "[5 rows x 26 columns]"
      ]
     },
     "execution_count": 88,
     "metadata": {},
     "output_type": "execute_result"
    }
   ],
   "source": [
    "data.head()\n"
   ]
  },
  {
   "cell_type": "code",
   "execution_count": 89,
   "metadata": {},
   "outputs": [],
   "source": [
    "X_train,X_test,y_train,y_test = tts(data.drop('price',axis = 1),data['price'],test_size = 0.2,random_state = 1)\n",
    "from sklearn.linear_model import LogisticRegression\n",
    "from sklearn.svm import SVC\n",
    "from sklearn.tree import DecisionTreeClassifier\n",
    "from sklearn.ensemble import RandomForestClassifier\n",
    "from sklearn.metrics import confusion_matrix"
   ]
  },
  {
   "cell_type": "code",
   "execution_count": 104,
   "metadata": {},
   "outputs": [
    {
     "name": "stdout",
     "output_type": "stream",
     "text": [
      "0.6502115655853314\n",
      "0.771964461994077\n",
      "0.6661849710982659\n",
      "0.721835075493612\n",
      "0.228035538005923\n"
     ]
    }
   ],
   "source": [
    "l=LogisticRegression(solver='lbfgs',max_iter=2000,C=0.5,penalty='l2',random_state=1)\n",
    "l.fit(X_train,y_train)\n",
    "y_pred=l.predict(X_train)\n",
    "cnf_matrix = confusion_matrix(y_train, y_pred)\n",
    "#cnf_matrix\n",
    "# START CODE\n",
    "TP = cnf_matrix[1, 1]\n",
    "TN = cnf_matrix[0, 0]\n",
    "FP = cnf_matrix[0, 1]\n",
    "FN = cnf_matrix[1, 0]\n",
    "print((TP)/float(TP+FN))#sensitivity recall or tpr\n",
    "print((TN)/float(TN+FP))#specificity or tnr\n",
    "print((TP)/float(TP+FP))#precision\n",
    "print((TP+TN)/float(TP+TN+FP+FN))#accuracy\n",
    "print((FP)/float(FP+TN))#fpr"
   ]
  },
  {
   "cell_type": "code",
   "execution_count": 108,
   "metadata": {},
   "outputs": [
    {
     "name": "stdout",
     "output_type": "stream",
     "text": [
      "0.5063469675599436\n",
      "0.8509378084896347\n",
      "0.703921568627451\n",
      "0.7090592334494773\n",
      "0.14906219151036526\n"
     ]
    }
   ],
   "source": [
    "svm=SVC(kernel='rbf',max_iter=1000,gamma='scale',random_state=1)\n",
    "svm.fit(X_train,y_train)\n",
    "y_pred=svm.predict(X_train)\n",
    "cnf_matrix = confusion_matrix(y_train, y_pred)\n",
    "#cnf_matrix\n",
    "# START CODE\n",
    "TP = cnf_matrix[1, 1]\n",
    "TN = cnf_matrix[0, 0]\n",
    "FP = cnf_matrix[0, 1]\n",
    "FN = cnf_matrix[1, 0]\n",
    "print((TP)/float(TP+FN))#sensitivity recall or tpr\n",
    "print((TN)/float(TN+FP))#specificity or tnr\n",
    "print((TP)/float(TP+FP))#precision\n",
    "print((TP+TN)/float(TP+TN+FP+FN))#accuracy\n",
    "print((FP)/float(FP+TN))#fpr"
   ]
  },
  {
   "cell_type": "code",
   "execution_count": 111,
   "metadata": {},
   "outputs": [
    {
     "name": "stdout",
     "output_type": "stream",
     "text": [
      "0.5430183356840621\n",
      "0.8775913129318855\n",
      "0.756385068762279\n",
      "0.7398373983739838\n",
      "0.12240868706811452\n"
     ]
    }
   ],
   "source": [
    "d=DecisionTreeClassifier(criterion='gini',max_depth=3,random_state=1)\n",
    "d.fit(X_train,y_train)\n",
    "y_pred=d.predict(X_train)\n",
    "cnf_matrix = confusion_matrix(y_train, y_pred)\n",
    "#cnf_matrix\n",
    "# START CODE\n",
    "TP = cnf_matrix[1, 1]\n",
    "TN = cnf_matrix[0, 0]\n",
    "FP = cnf_matrix[0, 1]\n",
    "FN = cnf_matrix[1, 0]\n",
    "print((TP)/float(TP+FN))#sensitivity recall or tpr\n",
    "print((TN)/float(TN+FP))#specificity or tnr\n",
    "print((TP)/float(TP+FP))#precision\n",
    "print((TP+TN)/float(TP+TN+FP+FN))#accuracy\n",
    "print((FP)/float(FP+TN))#fpr"
   ]
  },
  {
   "cell_type": "code",
   "execution_count": 112,
   "metadata": {},
   "outputs": [
    {
     "name": "stdout",
     "output_type": "stream",
     "text": [
      "0.5444287729196051\n",
      "0.8795656465942744\n",
      "0.7598425196850394\n",
      "0.7415795586527294\n",
      "0.12043435340572557\n"
     ]
    }
   ],
   "source": [
    "r=RandomForestClassifier(criterion='gini',max_depth=3,n_estimators=100,random_state=1)\n",
    "r.fit(X_train,y_train)\n",
    "y_pred=r.predict(X_train)\n",
    "cnf_matrix = confusion_matrix(y_train, y_pred)\n",
    "#cnf_matrix\n",
    "# START CODE\n",
    "TP = cnf_matrix[1, 1]\n",
    "TN = cnf_matrix[0, 0]\n",
    "FP = cnf_matrix[0, 1]\n",
    "FN = cnf_matrix[1, 0]\n",
    "print((TP)/float(TP+FN))#sensitivity recall or tpr\n",
    "print((TN)/float(TN+FP))#specificity or tnr\n",
    "print((TP)/float(TP+FP))#precision\n",
    "print((TP+TN)/float(TP+TN+FP+FN))#accuracy\n",
    "print((FP)/float(FP+TN))#fpr"
   ]
  },
  {
   "cell_type": "code",
   "execution_count": null,
   "metadata": {},
   "outputs": [],
   "source": []
  }
 ],
 "metadata": {
  "kernelspec": {
   "display_name": "Python 3",
   "language": "python",
   "name": "python3"
  },
  "language_info": {
   "codemirror_mode": {
    "name": "ipython",
    "version": 3
   },
   "file_extension": ".py",
   "mimetype": "text/x-python",
   "name": "python",
   "nbconvert_exporter": "python",
   "pygments_lexer": "ipython3",
   "version": "3.7.6"
  }
 },
 "nbformat": 4,
 "nbformat_minor": 4
}
